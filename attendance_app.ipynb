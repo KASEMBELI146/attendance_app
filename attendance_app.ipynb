{
 "cells": [
  {
   "cell_type": "code",
   "execution_count": 1,
   "id": "e5cb5c82-dbbd-46c9-87cb-3fc426d4c81b",
   "metadata": {},
   "outputs": [],
   "source": [
    "import ipywidgets as widgets\n",
    "from IPython.display import display, clear_output\n",
    "import pandas as pd\n",
    "from datetime import datetime\n",
    "\n",
    "# Initialize data storage (empty DataFrames)\n",
    "users_df = pd.DataFrame(columns=[\"full_name\", \"phone\", \"school_id\", \"password\"])\n",
    "attendance_df = pd.DataFrame(columns=[\"full_name\", \"date\", \"attendance\"])\n",
    "\n",
    "# Function to save data to CSV files\n",
    "def save_user_data():\n",
    "    global users_df\n",
    "    users_df.to_csv('users.csv', index=False)\n",
    "\n",
    "def save_attendance_data():\n",
    "    global attendance_df\n",
    "    attendance_df.to_csv('attendance.csv', index=False)\n",
    "\n",
    "# Load existing data from CSV files if they exist\n",
    "try:\n",
    "    users_df = pd.read_csv('users.csv')\n",
    "    attendance_df = pd.read_csv('attendance.csv')\n",
    "except FileNotFoundError:\n",
    "    save_user_data()\n",
    "    save_attendance_data()\n"
   ]
  },
  {
   "cell_type": "code",
   "execution_count": 3,
   "id": "a6953975-1613-49f7-ab24-976f52172154",
   "metadata": {},
   "outputs": [
    {
     "data": {
      "application/vnd.jupyter.widget-view+json": {
       "model_id": "31ac29c15f6646af96aec9bf7084e77a",
       "version_major": 2,
       "version_minor": 0
      },
      "text/plain": [
       "HTML(value='<div style=\"text-align: center; color: green; font-size: 32px; font-weight: bold;\">CS114: Programm…"
      ]
     },
     "metadata": {},
     "output_type": "display_data"
    },
    {
     "data": {
      "application/vnd.jupyter.widget-view+json": {
       "model_id": "5b4663fbf9584dfa890296992fc80e62",
       "version_major": 2,
       "version_minor": 0
      },
      "text/plain": [
       "HTML(value='<div style=\"text-align: center; color: blue; font-size: 28px; font-weight: bold;\">Module Tutor: Dr…"
      ]
     },
     "metadata": {},
     "output_type": "display_data"
    },
    {
     "data": {
      "application/vnd.jupyter.widget-view+json": {
       "model_id": "f5d36b716e9e448093df9eff8b589c30",
       "version_major": 2,
       "version_minor": 0
      },
      "text/plain": [
       "HTML(value='<div style=\"text-align: center; color: purple; font-size: 20px;\"><a href=\"#registration_form\">Regi…"
      ]
     },
     "metadata": {},
     "output_type": "display_data"
    }
   ],
   "source": [
    "# Import necessary libraries\n",
    "import ipywidgets as widgets\n",
    "\n",
    "# Create widgets for the homepage layout\n",
    "homepage_title = widgets.HTML(value='<div style=\"text-align: center; color: green; font-size: 32px; font-weight: bold;\">CS114: Programming II Attendance Confirmation</div>')\n",
    "\n",
    "module_info = widgets.HTML(value='<div style=\"text-align: center; color: blue; font-size: 28px; font-weight: bold;\">Module Tutor: Dr. Mostafa Al-Emran<br>Faculty of Engineering & IT, The British University in Dubai</div>')\n",
    "\n",
    "registration_link = widgets.HTML(value='<div style=\"text-align: center; color: purple; font-size: 20px;\"><a href=\"#registration_form\">Register Here</a></div>')\n",
    "\n",
    "# Display the widgets\n",
    "display(homepage_title)\n",
    "display(module_info)\n",
    "display(registration_link)\n"
   ]
  },
  {
   "cell_type": "code",
   "execution_count": 4,
   "id": "5315188f-0f9f-4508-855b-45a5db52a305",
   "metadata": {},
   "outputs": [
    {
     "data": {
      "application/vnd.jupyter.widget-view+json": {
       "model_id": "56f37cfc035b4cb7805108adc81faa0a",
       "version_major": 2,
       "version_minor": 0
      },
      "text/plain": [
       "HTML(value='<h3 style=\"color: #333; text-align: center;\">Registration Form</h3>')"
      ]
     },
     "metadata": {},
     "output_type": "display_data"
    },
    {
     "data": {
      "application/vnd.jupyter.widget-view+json": {
       "model_id": "26a21f0d8da446a7a2a98c999636b8f4",
       "version_major": 2,
       "version_minor": 0
      },
      "text/plain": [
       "Text(value='', description='Full Name:', style=TextStyle(description_width='initial'))"
      ]
     },
     "metadata": {},
     "output_type": "display_data"
    },
    {
     "data": {
      "application/vnd.jupyter.widget-view+json": {
       "model_id": "4bdcb105a2ed470fa627c362e6be15b6",
       "version_major": 2,
       "version_minor": 0
      },
      "text/plain": [
       "Text(value='', description='Phone:', style=TextStyle(description_width='initial'))"
      ]
     },
     "metadata": {},
     "output_type": "display_data"
    },
    {
     "data": {
      "application/vnd.jupyter.widget-view+json": {
       "model_id": "bdb655309f934616b1d796e7300961bb",
       "version_major": 2,
       "version_minor": 0
      },
      "text/plain": [
       "Text(value='', description='School ID:', style=TextStyle(description_width='initial'))"
      ]
     },
     "metadata": {},
     "output_type": "display_data"
    },
    {
     "data": {
      "application/vnd.jupyter.widget-view+json": {
       "model_id": "64eef4affdbd43b7a0652d1712211d58",
       "version_major": 2,
       "version_minor": 0
      },
      "text/plain": [
       "Password(description='Password:', style=TextStyle(description_width='initial'))"
      ]
     },
     "metadata": {},
     "output_type": "display_data"
    },
    {
     "data": {
      "application/vnd.jupyter.widget-view+json": {
       "model_id": "cd7f2b4b531e4285ad869940fbbe25c6",
       "version_major": 2,
       "version_minor": 0
      },
      "text/plain": [
       "Button(button_style='success', description='Register', style=ButtonStyle(), tooltip='Click to register')"
      ]
     },
     "metadata": {},
     "output_type": "display_data"
    }
   ],
   "source": [
    "# Import necessary libraries\n",
    "import ipywidgets as widgets\n",
    "from IPython.display import display, clear_output\n",
    "import pandas as pd\n",
    "\n",
    "# Initialize data storage (empty DataFrame)\n",
    "users_df = pd.DataFrame(columns=[\"full_name\", \"phone\", \"school_id\", \"password\"])\n",
    "\n",
    "# Function to save data to CSV file\n",
    "def save_user_data():\n",
    "    global users_df\n",
    "    users_df.to_csv('users.csv', index=False)\n",
    "\n",
    "# Load existing data from CSV file if it exists\n",
    "try:\n",
    "    users_df = pd.read_csv('users.csv')\n",
    "except FileNotFoundError:\n",
    "    save_user_data()\n",
    "\n",
    "# Registration Form widgets with styling\n",
    "registration_title = widgets.HTML(value='<h3 style=\"color: #333; text-align: center;\">Registration Form</h3>')\n",
    "reg_full_name = widgets.Text(description=\"Full Name:\", style={'description_width': 'initial'})\n",
    "reg_phone = widgets.Text(description=\"Phone:\", style={'description_width': 'initial'})\n",
    "reg_school_id = widgets.Text(description=\"School ID:\", style={'description_width': 'initial'})\n",
    "reg_password = widgets.Password(description=\"Password:\", style={'description_width': 'initial'})\n",
    "register_button = widgets.Button(description=\"Register\", button_style='success', tooltip='Click to register')\n",
    "\n",
    "# Function to handle registration button click\n",
    "def on_register_button_clicked(b):\n",
    "    global users_df\n",
    "    users_df = users_df.append({\"full_name\": reg_full_name.value, \n",
    "                                \"phone\": reg_phone.value, \n",
    "                                \"school_id\": reg_school_id.value, \n",
    "                                \"password\": reg_password.value}, ignore_index=True)\n",
    "    save_user_data()\n",
    "    clear_output()\n",
    "    display(registration_title, reg_full_name, reg_phone, reg_school_id, reg_password, register_button)\n",
    "    print(\"Registration successful!\")\n",
    "\n",
    "register_button.on_click(on_register_button_clicked)\n",
    "\n",
    "# Display the registration form initially\n",
    "display(registration_title, reg_full_name, reg_phone, reg_school_id, reg_password, register_button)\n"
   ]
  },
  {
   "cell_type": "code",
   "execution_count": 7,
   "id": "26585f60-dc25-47c2-b5ea-5a9554a65a21",
   "metadata": {},
   "outputs": [
    {
     "data": {
      "application/vnd.jupyter.widget-view+json": {
       "model_id": "12cb8ec1f011416f895381f8d6fc2dd0",
       "version_major": 2,
       "version_minor": 0
      },
      "text/plain": [
       "HTML(value='<h3 style=\"color: #333; text-align: center;\">Login Form</h3>')"
      ]
     },
     "metadata": {},
     "output_type": "display_data"
    },
    {
     "data": {
      "application/vnd.jupyter.widget-view+json": {
       "model_id": "a12e3d1fcc7f41e0a768358ea779ba9a",
       "version_major": 2,
       "version_minor": 0
      },
      "text/plain": [
       "Text(value='', description='School ID:', style=TextStyle(description_width='initial'))"
      ]
     },
     "metadata": {},
     "output_type": "display_data"
    },
    {
     "data": {
      "application/vnd.jupyter.widget-view+json": {
       "model_id": "233ce2770abd482fb1d2d3fa6550b900",
       "version_major": 2,
       "version_minor": 0
      },
      "text/plain": [
       "Password(description='Password:', style=TextStyle(description_width='initial'))"
      ]
     },
     "metadata": {},
     "output_type": "display_data"
    },
    {
     "data": {
      "application/vnd.jupyter.widget-view+json": {
       "model_id": "2eaa19ca23d14881ba92a2e6152f5048",
       "version_major": 2,
       "version_minor": 0
      },
      "text/plain": [
       "Button(button_style='primary', description='Login', style=ButtonStyle(), tooltip='Click to login')"
      ]
     },
     "metadata": {},
     "output_type": "display_data"
    }
   ],
   "source": [
    "# Import necessary libraries\n",
    "import ipywidgets as widgets\n",
    "from IPython.display import display, clear_output\n",
    "import pandas as pd\n",
    "\n",
    "# Initialize data storage (empty DataFrame)\n",
    "users_df = pd.DataFrame(columns=[\"full_name\", \"phone\", \"school_id\", \"password\"])\n",
    "\n",
    "# Function to save data to CSV file\n",
    "def save_user_data():\n",
    "    global users_df\n",
    "    users_df.to_csv('users.csv', index=False)\n",
    "\n",
    "# Load existing data from CSV file if it exists\n",
    "try:\n",
    "    users_df = pd.read_csv('users.csv')\n",
    "except FileNotFoundError:\n",
    "    save_user_data()\n",
    "\n",
    "# Login Form widgets with styling\n",
    "login_title = widgets.HTML(value='<h3 style=\"color: #333; text-align: center;\">Login Form</h3>')\n",
    "login_school_id = widgets.Text(description=\"School ID:\", style={'description_width': 'initial'})\n",
    "login_password = widgets.Password(description=\"Password:\", style={'description_width': 'initial'})\n",
    "login_button = widgets.Button(description=\"Login\", button_style='primary', tooltip='Click to login')\n",
    "\n",
    "# Function to handle login button click\n",
    "def on_login_button_clicked(b):\n",
    "    global users_df\n",
    "    if login_school_id.value in users_df[\"school_id\"].values:\n",
    "        user_data = users_df[users_df[\"school_id\"] == login_school_id.value].iloc[0]\n",
    "        if user_data[\"password\"] == login_password.value:\n",
    "            clear_output()\n",
    "            display(attendance_title, attendance_full_name, attendance_date, attendance_status, submit_attendance_button)\n",
    "        else:\n",
    "            print(\"Incorrect password!\")\n",
    "    else:\n",
    "        print(\"User does not exist!\")\n",
    "\n",
    "login_button.on_click(on_login_button_clicked)\n",
    "\n",
    "# Display the login form initially\n",
    "display(login_title, login_school_id, login_password, login_button)\n"
   ]
  },
  {
   "cell_type": "code",
   "execution_count": 8,
   "id": "86775e89-c8f4-4e72-a347-6c3f9ca2331c",
   "metadata": {},
   "outputs": [
    {
     "data": {
      "application/vnd.jupyter.widget-view+json": {
       "model_id": "7585a856bb0d47ce97790048d7c97ca3",
       "version_major": 2,
       "version_minor": 0
      },
      "text/plain": [
       "HTML(value='<h3 style=\"color: #333; text-align: center;\">Attendance Form</h3>')"
      ]
     },
     "metadata": {},
     "output_type": "display_data"
    },
    {
     "data": {
      "application/vnd.jupyter.widget-view+json": {
       "model_id": "ef3104df45ba46c0be6ba4ab31f958cb",
       "version_major": 2,
       "version_minor": 0
      },
      "text/plain": [
       "Text(value='', description='Full Name:', disabled=True, style=TextStyle(description_width='initial'))"
      ]
     },
     "metadata": {},
     "output_type": "display_data"
    },
    {
     "data": {
      "application/vnd.jupyter.widget-view+json": {
       "model_id": "77ecaad93c5d4d33953513d8664d0c3e",
       "version_major": 2,
       "version_minor": 0
      },
      "text/plain": [
       "DatePicker(value=None, description='Date:', step=1, style=DescriptionStyle(description_width='initial'))"
      ]
     },
     "metadata": {},
     "output_type": "display_data"
    },
    {
     "data": {
      "application/vnd.jupyter.widget-view+json": {
       "model_id": "34651dfe3c89470587f3b71c93a848d9",
       "version_major": 2,
       "version_minor": 0
      },
      "text/plain": [
       "Dropdown(description='Attendance:', options=('Present', 'Absent'), style=DescriptionStyle(description_width='i…"
      ]
     },
     "metadata": {},
     "output_type": "display_data"
    },
    {
     "data": {
      "application/vnd.jupyter.widget-view+json": {
       "model_id": "b726fbc5a2be472580efaabb8cf307c0",
       "version_major": 2,
       "version_minor": 0
      },
      "text/plain": [
       "Button(button_style='info', description='Submit Attendance', style=ButtonStyle(), tooltip='Click to submit att…"
      ]
     },
     "metadata": {},
     "output_type": "display_data"
    }
   ],
   "source": [
    "# Import necessary libraries\n",
    "import ipywidgets as widgets\n",
    "from IPython.display import display, clear_output\n",
    "import pandas as pd\n",
    "\n",
    "# Initialize data storage (empty DataFrame)\n",
    "attendance_df = pd.DataFrame(columns=[\"full_name\", \"date\", \"attendance\"])\n",
    "\n",
    "# Function to save data to CSV file\n",
    "def save_attendance_data():\n",
    "    global attendance_df\n",
    "    attendance_df.to_csv('attendance.csv', index=False)\n",
    "\n",
    "# Attendance Form widgets with styling\n",
    "attendance_title = widgets.HTML(value='<h3 style=\"color: #333; text-align: center;\">Attendance Form</h3>')\n",
    "attendance_full_name = widgets.Text(description=\"Full Name:\", disabled=True, style={'description_width': 'initial'})\n",
    "attendance_date = widgets.DatePicker(description=\"Date:\", style={'description_width': 'initial'})\n",
    "attendance_status = widgets.Dropdown(options=[\"Present\", \"Absent\"], description=\"Attendance:\", style={'description_width': 'initial'})\n",
    "submit_attendance_button = widgets.Button(description=\"Submit Attendance\", button_style='info', tooltip='Click to submit attendance')\n",
    "\n",
    "# Function to handle attendance submission button click\n",
    "def on_submit_attendance_button_clicked(b):\n",
    "    global attendance_df\n",
    "    attendance_df = attendance_df.append({\"full_name\": attendance_full_name.value, \n",
    "                                          \"date\": attendance_date.value.strftime(\"%Y-%m-%d\"), \n",
    "                                          \"attendance\": attendance_status.value}, ignore_index=True)\n",
    "    save_attendance_data()\n",
    "    clear_output()\n",
    "    display(attendance_title, attendance_full_name, attendance_date, attendance_status, submit_attendance_button)\n",
    "    print(\"Attendance recorded!\")\n",
    "\n",
    "submit_attendance_button.on_click(on_submit_attendance_button_clicked)\n",
    "\n",
    "# Display the attendance form initially\n",
    "display(attendance_title, attendance_full_name, attendance_date, attendance_status, submit_attendance_button)\n"
   ]
  },
  {
   "cell_type": "code",
   "execution_count": 9,
   "id": "f5860c67-ef76-4d51-be10-3f6a409274ea",
   "metadata": {},
   "outputs": [],
   "source": [
    "# Import necessary libraries\n",
    "import ipywidgets as widgets\n",
    "from IPython.display import display, clear_output\n",
    "import pandas as pd\n",
    "\n",
    "# Initialize data storage (empty DataFrames)\n",
    "users_df = pd.DataFrame(columns=[\"full_name\", \"phone\", \"school_id\", \"password\"])\n",
    "attendance_df = pd.DataFrame(columns=[\"full_name\", \"date\", \"attendance\"])\n",
    "\n",
    "# Function to save data to CSV files\n",
    "def save_user_data():\n",
    "    global users_df\n",
    "    users_df.to_csv('users.csv', index=False)\n",
    "\n",
    "def save_attendance_data():\n",
    "    global attendance_df\n",
    "    attendance_df.to_csv('attendance.csv', index=False)\n",
    "\n",
    "# Load existing data from CSV files if they exist\n",
    "try:\n",
    "    users_df = pd.read_csv('users.csv')\n",
    "    attendance_df = pd.read_csv('attendance.csv')\n",
    "except FileNotFoundError:\n",
    "    save_user_data()\n",
    "    save_attendance_data()\n"
   ]
  },
  {
   "cell_type": "code",
   "execution_count": 10,
   "id": "eb5aa8c3-b1be-4fd3-b1f5-180ba991a346",
   "metadata": {},
   "outputs": [],
   "source": [
    "# Registration Form widgets with styling\n",
    "registration_title = widgets.HTML(value='<h3 style=\"color: #333; text-align: center;\">Registration Form</h3>')\n",
    "reg_full_name = widgets.Text(description=\"Full Name:\", style={'description_width': 'initial'})\n",
    "reg_phone = widgets.Text(description=\"Phone:\", style={'description_width': 'initial'})\n",
    "reg_school_id = widgets.Text(description=\"School ID:\", style={'description_width': 'initial'})\n",
    "reg_password = widgets.Password(description=\"Password:\", style={'description_width': 'initial'})\n",
    "register_button = widgets.Button(description=\"Register\", button_style='success', tooltip='Click to register')\n",
    "\n",
    "# Function to handle registration button click\n",
    "def on_register_button_clicked(b):\n",
    "    global users_df\n",
    "    users_df = users_df.append({\"full_name\": reg_full_name.value, \n",
    "                                \"phone\": reg_phone.value, \n",
    "                                \"school_id\": reg_school_id.value, \n",
    "                                \"password\": reg_password.value}, ignore_index=True)\n",
    "    save_user_data()\n",
    "    clear_output()\n",
    "    display(registration_title, reg_full_name, reg_phone, reg_school_id, reg_password, register_button)\n",
    "    print(\"Registration successful!\")\n",
    "\n",
    "register_button.on_click(on_register_button_clicked)\n",
    "\n",
    "# Login Form widgets with styling\n",
    "login_title = widgets.HTML(value='<h3 style=\"color: #333; text-align: center;\">Login Form</h3>')\n",
    "login_school_id = widgets.Text(description=\"School ID:\", style={'description_width': 'initial'})\n",
    "login_password = widgets.Password(description=\"Password:\", style={'description_width': 'initial'})\n",
    "login_button = widgets.Button(description=\"Login\", button_style='primary', tooltip='Click to login')\n",
    "\n",
    "# Function to handle login button click\n",
    "def on_login_button_clicked(b):\n",
    "    global users_df\n",
    "    if login_school_id.value in users_df[\"school_id\"].values:\n",
    "        user_data = users_df[users_df[\"school_id\"] == login_school_id.value].iloc[0]\n",
    "        if user_data[\"password\"] == login_password.value:\n",
    "            clear_output()\n",
    "            display(attendance_title, attendance_full_name, attendance_date, attendance_status, submit_attendance_button, attendance_table)\n",
    "        else:\n",
    "            print(\"Incorrect password!\")\n",
    "    else:\n",
    "        print(\"User does not exist!\")\n",
    "\n",
    "login_button.on_click(on_login_button_clicked)\n",
    "\n",
    "# Attendance Form widgets with styling\n",
    "attendance_title = widgets.HTML(value='<h3 style=\"color: #333; text-align: center;\">Attendance Form</h3>')\n",
    "attendance_full_name = widgets.Text(description=\"Full Name:\", disabled=True, style={'description_width': 'initial'})\n",
    "attendance_date = widgets.DatePicker(description=\"Date:\", style={'description_width': 'initial'})\n",
    "attendance_status = widgets.Dropdown(options=[\"Present\", \"Absent\"], description=\"Attendance:\", style={'description_width': 'initial'})\n",
    "submit_attendance_button = widgets.Button(description=\"Submit Attendance\", button_style='info', tooltip='Click to submit attendance')\n",
    "\n",
    "# Function to handle attendance submission button click\n",
    "def on_submit_attendance_button_clicked(b):\n",
    "    global attendance_df\n",
    "    attendance_df = attendance_df.append({\"full_name\": attendance_full_name.value, \n",
    "                                          \"date\": attendance_date.value.strftime(\"%Y-%m-%d\"), \n",
    "                                          \"attendance\": attendance_status.value}, ignore_index=True)\n",
    "    save_attendance_data()\n",
    "    clear_output()\n",
    "    display(attendance_title, attendance_full_name, attendance_date, attendance_status, submit_attendance_button, attendance_table)\n",
    "    print(\"Attendance recorded!\")\n",
    "\n",
    "submit_attendance_button.on_click(on_submit_attendance_button_clicked)\n",
    "\n",
    "# Table to display registered students and attendance\n",
    "attendance_table = widgets.Output()\n",
    "\n",
    "def update_attendance_table():\n",
    "    global attendance_df\n",
    "    with attendance_table:\n",
    "        clear_output(wait=True)\n",
    "        display(attendance_df)\n",
    "\n",
    "# Initial display of attendance form and table\n",
    "update_attendance_table()\n"
   ]
  },
  {
   "cell_type": "code",
   "execution_count": 11,
   "id": "c9360b83-955d-4273-b78c-d3d535ba6685",
   "metadata": {},
   "outputs": [
    {
     "data": {
      "application/vnd.jupyter.widget-view+json": {
       "model_id": "97c632ec07954d2aa610936bd665e8a8",
       "version_major": 2,
       "version_minor": 0
      },
      "text/plain": [
       "HTML(value='<h3 style=\"color: #333; text-align: center;\">Registration Form</h3>')"
      ]
     },
     "metadata": {},
     "output_type": "display_data"
    },
    {
     "data": {
      "application/vnd.jupyter.widget-view+json": {
       "model_id": "a86dba3bf20e4a9da12a1ea0f304ff40",
       "version_major": 2,
       "version_minor": 0
      },
      "text/plain": [
       "Text(value='', description='Full Name:', style=TextStyle(description_width='initial'))"
      ]
     },
     "metadata": {},
     "output_type": "display_data"
    },
    {
     "data": {
      "application/vnd.jupyter.widget-view+json": {
       "model_id": "747b6b87ee42482eae85245de5873af0",
       "version_major": 2,
       "version_minor": 0
      },
      "text/plain": [
       "Text(value='', description='Phone:', style=TextStyle(description_width='initial'))"
      ]
     },
     "metadata": {},
     "output_type": "display_data"
    },
    {
     "data": {
      "application/vnd.jupyter.widget-view+json": {
       "model_id": "e9590cfc89924bedb12d7b632bf4791c",
       "version_major": 2,
       "version_minor": 0
      },
      "text/plain": [
       "Text(value='', description='School ID:', style=TextStyle(description_width='initial'))"
      ]
     },
     "metadata": {},
     "output_type": "display_data"
    },
    {
     "data": {
      "application/vnd.jupyter.widget-view+json": {
       "model_id": "f456d1b35283401ca1b15fe36bb9b170",
       "version_major": 2,
       "version_minor": 0
      },
      "text/plain": [
       "Password(description='Password:', style=TextStyle(description_width='initial'))"
      ]
     },
     "metadata": {},
     "output_type": "display_data"
    },
    {
     "data": {
      "application/vnd.jupyter.widget-view+json": {
       "model_id": "4212fa01348d40d484c51d9a49f14909",
       "version_major": 2,
       "version_minor": 0
      },
      "text/plain": [
       "Button(button_style='success', description='Register', style=ButtonStyle(), tooltip='Click to register')"
      ]
     },
     "metadata": {},
     "output_type": "display_data"
    }
   ],
   "source": [
    "# Display the initial forms and table\n",
    "display(registration_title, reg_full_name, reg_phone, reg_school_id, reg_password, register_button)\n"
   ]
  },
  {
   "cell_type": "code",
   "execution_count": 12,
   "id": "ae3f5c44-148e-4451-9ce4-00e753978dbd",
   "metadata": {},
   "outputs": [
    {
     "data": {
      "application/vnd.jupyter.widget-view+json": {
       "model_id": "4d231844f0084f4186eaf40b09273406",
       "version_major": 2,
       "version_minor": 0
      },
      "text/plain": [
       "HTML(value='<h3>Registration Form</h3>')"
      ]
     },
     "metadata": {},
     "output_type": "display_data"
    },
    {
     "data": {
      "application/vnd.jupyter.widget-view+json": {
       "model_id": "a86dba3bf20e4a9da12a1ea0f304ff40",
       "version_major": 2,
       "version_minor": 0
      },
      "text/plain": [
       "Text(value='', description='Full Name:', style=TextStyle(description_width='initial'))"
      ]
     },
     "metadata": {},
     "output_type": "display_data"
    },
    {
     "data": {
      "application/vnd.jupyter.widget-view+json": {
       "model_id": "747b6b87ee42482eae85245de5873af0",
       "version_major": 2,
       "version_minor": 0
      },
      "text/plain": [
       "Text(value='', description='Phone:', style=TextStyle(description_width='initial'))"
      ]
     },
     "metadata": {},
     "output_type": "display_data"
    },
    {
     "data": {
      "application/vnd.jupyter.widget-view+json": {
       "model_id": "e9590cfc89924bedb12d7b632bf4791c",
       "version_major": 2,
       "version_minor": 0
      },
      "text/plain": [
       "Text(value='', description='School ID:', style=TextStyle(description_width='initial'))"
      ]
     },
     "metadata": {},
     "output_type": "display_data"
    },
    {
     "data": {
      "application/vnd.jupyter.widget-view+json": {
       "model_id": "f456d1b35283401ca1b15fe36bb9b170",
       "version_major": 2,
       "version_minor": 0
      },
      "text/plain": [
       "Password(description='Password:', style=TextStyle(description_width='initial'))"
      ]
     },
     "metadata": {},
     "output_type": "display_data"
    },
    {
     "data": {
      "application/vnd.jupyter.widget-view+json": {
       "model_id": "4212fa01348d40d484c51d9a49f14909",
       "version_major": 2,
       "version_minor": 0
      },
      "text/plain": [
       "Button(button_style='success', description='Register', style=ButtonStyle(), tooltip='Click to register')"
      ]
     },
     "metadata": {},
     "output_type": "display_data"
    }
   ],
   "source": [
    "# Display the Homepage and Registration Form initially\n",
    "registration_title = widgets.HTML(value=\"<h3>Registration Form</h3>\")\n",
    "display(registration_title, reg_full_name, reg_phone, reg_school_id, reg_password, register_button)\n"
   ]
  },
  {
   "cell_type": "code",
   "execution_count": null,
   "id": "f89783f1-5519-4db8-a8dc-d3e5253a4050",
   "metadata": {},
   "outputs": [],
   "source": []
  }
 ],
 "metadata": {
  "kernelspec": {
   "display_name": "Python 3 (ipykernel)",
   "language": "python",
   "name": "python3"
  },
  "language_info": {
   "codemirror_mode": {
    "name": "ipython",
    "version": 3
   },
   "file_extension": ".py",
   "mimetype": "text/x-python",
   "name": "python",
   "nbconvert_exporter": "python",
   "pygments_lexer": "ipython3",
   "version": "3.12.3"
  }
 },
 "nbformat": 4,
 "nbformat_minor": 5
}
